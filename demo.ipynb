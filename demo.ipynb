{
 "cells": [
  {
   "cell_type": "code",
   "execution_count": 1,
   "metadata": {
    "collapsed": false
   },
   "outputs": [
    {
     "name": "stdout",
     "output_type": "stream",
     "text": [
      "Couldn't import dot_parser, loading of dot files will not be possible.\n",
      "... loading data\n"
     ]
    }
   ],
   "source": [
    "import numpy\n",
    "\n",
    "import data_preparation as dp\n",
    "from learning_model import LearningModel\n",
    "\n",
    "rng = numpy.random.RandomState(123456)\n",
    "\n",
    "# an object responsible for image processing\n",
    "img_proc = dp.ImageProcessing(rng, image_shape=(28, 28), cropped_image_shape=(26, 26))\n",
    "\n",
    "# model\n",
    "model = LearningModel(rng, n_units=(20, 50, 10), input_shape=(26, 26),\n",
    "                      learning_rate=0.01, L1_reg=0.001, L2_reg=0.001, rmsprop=True)\n",
    "\n",
    "# download MNIST dataset to current directory\n",
    "dataset = dp.load_mnist()"
   ]
  },
  {
   "cell_type": "code",
   "execution_count": null,
   "metadata": {
    "collapsed": true
   },
   "outputs": [],
   "source": [
    "# train model with given parameters (and with high verbosity)\n",
    "model.train(dataset, n_epochs=50, batch_size=500, image_processing=img_proc, verbose=True)"
   ]
  }
 ],
 "metadata": {
  "kernelspec": {
   "display_name": "Python 2",
   "language": "python",
   "name": "python2"
  },
  "language_info": {
   "codemirror_mode": {
    "name": "ipython",
    "version": 2
   },
   "file_extension": ".py",
   "mimetype": "text/x-python",
   "name": "python",
   "nbconvert_exporter": "python",
   "pygments_lexer": "ipython2",
   "version": "2.7.11"
  }
 },
 "nbformat": 4,
 "nbformat_minor": 0
}
