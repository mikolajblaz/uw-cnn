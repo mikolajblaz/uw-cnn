{
 "cells": [
  {
   "cell_type": "code",
   "execution_count": null,
   "metadata": {
    "collapsed": false
   },
   "outputs": [],
   "source": [
    "import numpy\n",
    "\n",
    "import data_preparation as dp\n",
    "from learning_model import LearningModel\n",
    "\n",
    "rng = numpy.random.RandomState(123456)\n",
    "\n",
    "# an object responsible for image processing\n",
    "img_proc = dp.ImageProcessing(rng, image_shape=(28, 28), cropped_image_shape=(26, 26))\n",
    "\n",
    "# model\n",
    "model = LearningModel(rng, img_proc, n_units=(20, 50, 10), input_shape=(26, 26),\n",
    "                      learning_rate=0.01, L1_reg=0.001, L2_reg=0.001, rmsprop=True)\n",
    "\n",
    "# download MNIST dataset to current directory\n",
    "dataset = dp.load_mnist()"
   ]
  },
  {
   "cell_type": "code",
   "execution_count": null,
   "metadata": {
    "collapsed": false
   },
   "outputs": [],
   "source": [
    "# train model with given parameters (and with high verbosity)\n",
    "# NOTE: setting n_epochs to e.g. 40 will give lower error rate, but it will obviously take more time\n",
    "model.train(dataset, n_epochs=10, batch_size=500, verbose=False)"
   ]
  },
  {
   "cell_type": "code",
   "execution_count": null,
   "metadata": {
    "collapsed": false
   },
   "outputs": [],
   "source": [
    "# Results\n",
    "import matplotlib.pyplot as plt\n",
    "import matplotlib.image as mpimg\n",
    "import numpy as np\n",
    "\n",
    "def show(image):\n",
    "    plt.imshow(image[0], cmap=plt.cm.gray)\n",
    "    plt.show()\n",
    "\n",
    "test_set_x, test_set_y = dataset[2]\n",
    "\n",
    "# choose 10 random images from test set\n",
    "num = 20\n",
    "idxs = rng.randint(0, test_set_x.shape[0], (num,))\n",
    "tested_x = test_set_x[idxs]\n",
    "tested_y = test_set_y[idxs]\n",
    "y_pred = model.predict(tested_x)\n",
    "\n",
    "%matplotlib inline\n",
    "\n",
    "for x, y, yp in zip(tested_x, tested_y, y_pred):\n",
    "    print 'Predicted %i, should be %i:' % (yp, y)\n",
    "    show(x)\n"
   ]
  },
  {
   "cell_type": "code",
   "execution_count": null,
   "metadata": {
    "collapsed": true
   },
   "outputs": [],
   "source": []
  }
 ],
 "metadata": {
  "kernelspec": {
   "display_name": "Python 2",
   "language": "python",
   "name": "python2"
  },
  "language_info": {
   "codemirror_mode": {
    "name": "ipython",
    "version": 2
   },
   "file_extension": ".py",
   "mimetype": "text/x-python",
   "name": "python",
   "nbconvert_exporter": "python",
   "pygments_lexer": "ipython2",
   "version": "2.7.11"
  }
 },
 "nbformat": 4,
 "nbformat_minor": 0
}
