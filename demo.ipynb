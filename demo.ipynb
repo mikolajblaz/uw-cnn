{
 "cells": [
  {
   "cell_type": "code",
   "execution_count": null,
   "metadata": {},
   "outputs": [],
   "source": [
    "# Load dataset and initialize learning model\n",
    "import numpy\n",
    "\n",
    "import data_preparation as dp\n",
    "from learning_model import LearningModel\n",
    "\n",
    "rng = numpy.random.RandomState(123456)\n",
    "\n",
    "# an object responsible for image processing\n",
    "img_proc = dp.ImageProcessing(rng, image_shape=(28, 28), cropped_image_shape=(26, 26))\n",
    "\n",
    "# model\n",
    "model = LearningModel(rng, img_proc, n_units=(20, 50, 10), input_shape=(26, 26),\n",
    "                      learning_rate=0.01, L1_reg=0.001, L2_reg=0.001, rmsprop=True)\n",
    "\n",
    "# download MNIST dataset to current directory\n",
    "dataset = dp.load_mnist()\n",
    "\n",
    "print 'Training set count:', dataset[0][0].shape[0]\n",
    "print 'Validation set count:', dataset[1][0].shape[0]\n",
    "print 'Test set count:', dataset[2][0].shape[0]"
   ]
  },
  {
   "cell_type": "code",
   "execution_count": null,
   "metadata": {},
   "outputs": [],
   "source": [
    "# train model with given parameters (and with high verbosity)\n",
    "# NOTE: setting n_epochs to e.g. 10 will lower the error rate, but 3 is good enough for demonstration\n",
    "ret = model.train(dataset, n_epochs=3, batch_size=500, verbose=True)"
   ]
  },
  {
   "cell_type": "code",
   "execution_count": null,
   "metadata": {},
   "outputs": [],
   "source": [
    "# Results\n",
    "import numpy as np\n",
    "\n",
    "test_set_x, test_set_y = dataset[2]\n",
    "\n",
    "# get predictions for 1 test batch\n",
    "test_batch = 50\n",
    "tested_x = test_set_x[:test_batch]\n",
    "tested_y = test_set_y[:test_batch]\n",
    "y_pred = model.predict(tested_x)\n",
    "\n",
    "correct = np.equal(y_pred, tested_y).sum()\n",
    "\n",
    "print 'Predictions:  ', y_pred\n",
    "print 'Expectations: ', tested_y\n",
    "print '%i out of %i predictions are correct (%i %%)' % (correct, test_batch, 100 * correct / test_batch)"
   ]
  },
  {
   "cell_type": "code",
   "execution_count": null,
   "metadata": {},
   "outputs": [],
   "source": [
    "# Show random 10 images\n",
    "import matplotlib.pyplot as plt\n",
    "\n",
    "def show(image):\n",
    "    plt.imshow(image[0], cmap=plt.cm.gray)\n",
    "    plt.show()\n",
    "\n",
    "num = 10\n",
    "idxs = rng.randint(0, tested_x.shape[0], (num,))\n",
    "\n",
    "%matplotlib inline\n",
    "\n",
    "for x, y, yp in zip(tested_x[idxs], tested_y[idxs], y_pred[idxs]):\n",
    "    print 'Predicted %i, should be %i:' % (yp, y)\n",
    "    show(x)"
   ]
  },
  {
   "cell_type": "code",
   "execution_count": null,
   "metadata": {},
   "outputs": [],
   "source": [
    ""
   ]
  }
 ],
 "metadata": {
  "kernelspec": {
   "display_name": "Python 2",
   "language": "python",
   "name": "python2"
  },
  "language_info": {
   "codemirror_mode": {
    "name": "ipython",
    "version": 2.0
   },
   "file_extension": ".py",
   "mimetype": "text/x-python",
   "name": "python",
   "nbconvert_exporter": "python",
   "pygments_lexer": "ipython2",
   "version": "2.7.11"
  }
 },
 "nbformat": 4,
 "nbformat_minor": 0
}